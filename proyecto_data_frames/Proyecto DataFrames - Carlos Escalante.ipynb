{
 "cells": [
  {
   "cell_type": "code",
   "execution_count": 1,
   "metadata": {},
   "outputs": [
    {
     "name": "stdout",
     "output_type": "stream",
     "text": [
      "Generated 1000 records!\n"
     ]
    }
   ],
   "source": [
    "import pprint\n",
    "import random\n",
    "import pandas as pd\n",
    "from faker import Faker\n",
    "from faker.providers import profile\n",
    "from datetime import datetime\n",
    "from datetime import date\n",
    "\n",
    "fake = Faker('es_MX')\n",
    "fake.add_provider(profile)\n",
    "\n",
    "CURRENCY_SIGN = '$'\n",
    "# salario anual en dolares\n",
    "MIN_SALARY = 15000.00\n",
    "MAX_SALARY = 150000.00\n",
    "# peso en kilogramos\n",
    "MIN_WEIGHT = 50\n",
    "MAX_WEIGHT = 120\n",
    "# talla en centimetros\n",
    "MIN_HEIGHT = 150\n",
    "MAX_HEIGHT = 210\n",
    "\n",
    "\n",
    "def generate_random_data(count):\n",
    "    result_set = []\n",
    "    for _ in range(count):\n",
    "        user_info = fake.profile()\n",
    "        user_info['country'] = fake.country()\n",
    "        user_info['weight'] = int(random.uniform(MIN_WEIGHT, MAX_WEIGHT))\n",
    "        user_info['height'] = int(random.uniform(MIN_HEIGHT, MAX_HEIGHT))\n",
    "        user_info['salary'] = random.uniform(MIN_SALARY, MAX_SALARY)\n",
    "        user_info['formatted_salary'] = CURRENCY_SIGN + str(\"{:,}\".format(int(user_info['salary'])))\n",
    "\n",
    "        result_set.append(user_info)\n",
    "        #pprint.pprint(user_info)\n",
    "    print(f'Generated {len(result_set)} records!')\n",
    "    return result_set\n",
    "\n",
    "\n",
    "def calculate_age(born):\n",
    "    born = datetime.strptime(born, \"%Y-%m-%d\").date()\n",
    "    today = date.today()\n",
    "    return int(today.year - born.year - ((today.month, today.day) < (born.month, born.day)))\n",
    "\n",
    "\n",
    "#1. Generacion de datos aleatorios\n",
    "data = generate_random_data(1000)"
   ]
  },
  {
   "cell_type": "code",
   "execution_count": 2,
   "metadata": {},
   "outputs": [],
   "source": [
    "#2. Guardar los datos en un archivo separado por comas\n",
    "raw_df = pd.DataFrame(data)\n",
    "raw_df.to_csv('list.csv', index=False)"
   ]
  },
  {
   "cell_type": "code",
   "execution_count": 3,
   "metadata": {},
   "outputs": [],
   "source": [
    "#3. Leer el archivo y crear dataFrame a partir de los datos contenidos\n",
    "my_df = pd.read_csv('list.csv')"
   ]
  },
  {
   "cell_type": "code",
   "execution_count": 4,
   "metadata": {},
   "outputs": [],
   "source": [
    "#4. Limpieza inicial de los datos\n",
    "columns_to_delete = ['current_location', 'ssn', 'username', 'website', 'residence']\n",
    "my_df.drop(columns=columns_to_delete, inplace=True)"
   ]
  },
  {
   "cell_type": "code",
   "execution_count": 5,
   "metadata": {},
   "outputs": [],
   "source": [
    "# calculate dinamically some columns\n",
    "my_df['age'] = my_df['birthdate'].apply(calculate_age)"
   ]
  },
  {
   "cell_type": "code",
   "execution_count": 6,
   "metadata": {},
   "outputs": [],
   "source": [
    "# obtener dominios limpiando las direcciones de email\n",
    "\n",
    "def extract_domain_from_email_address(email):\n",
    "    import re\n",
    "    domain = re.search(\"@[\\w.]+\", email)\n",
    "    return domain.group()[1:]\n",
    "\n",
    "my_df['domain'] = my_df['mail'].apply(extract_domain_from_email_address)\n"
   ]
  },
  {
   "cell_type": "code",
   "execution_count": 7,
   "metadata": {},
   "outputs": [],
   "source": [
    "# quitar a cualquier persona que sea menor de edad y mayores de 100 años\n",
    "\n",
    "my_df = my_df[(my_df['age'] >= 18) & (my_df['age'] < 100)]\n",
    "my_df.reset_index(drop=True, inplace=True)"
   ]
  },
  {
   "cell_type": "code",
   "execution_count": 8,
   "metadata": {},
   "outputs": [
    {
     "name": "stdout",
     "output_type": "stream",
     "text": [
      "Exportar DataFrame completo como HTML\n"
     ]
    }
   ],
   "source": [
    "# #X. Exportar a formato HTML\n",
    "print(\"Exportar DataFrame completo como HTML\")\n",
    "my_df.to_html('df_data.html', index=True)"
   ]
  },
  {
   "cell_type": "code",
   "execution_count": 9,
   "metadata": {},
   "outputs": [],
   "source": [
    "# ordenar columnas alfabeticamente y las filas por edad (menor a mayor)\n",
    "my_df.sort_values('age', ascending=True, inplace=True)\n",
    "my_df.reset_index(drop=True, inplace=True)\n",
    "my_df.sort_index(axis=1, inplace=True)"
   ]
  },
  {
   "cell_type": "code",
   "execution_count": 10,
   "metadata": {},
   "outputs": [
    {
     "name": "stdout",
     "output_type": "stream",
     "text": [
      "*** Reporte de cantidad personas por país de residencia ***\n",
      "                     country\n",
      "                       count\n",
      "country                     \n",
      "Afganistán                 2\n",
      "Albania                    4\n",
      "Alemania                   6\n",
      "Andorra                    2\n",
      "Angola                     6\n",
      "Antigua y Barbuda          4\n",
      "Arabia Saudita             4\n",
      "Argelia                    2\n",
      "Argentina                  2\n",
      "Australia                  3\n",
      "Austria                    5\n",
      "Azerbaiyán                 3\n",
      "Bahamas                    5\n",
      "Bahrein                    3\n",
      "Bangladesh                 3\n",
      "Belarús                    1\n",
      "Belice                     3\n",
      "Benin                      3\n",
      "Bhután                     5\n",
      "Bolivia                    2\n",
      "Bosnia y Herzegovina       3\n",
      "Botswana                   4\n",
      "Brasil                     7\n",
      "Brunei Darussalam          2\n",
      "Bulgaria                   4\n",
      "Burkina Faso               7\n",
      "Burundi                    6\n",
      "Cabo Verde                 9\n",
      "Camboya                    3\n",
      "Camerún                    5\n",
      "...                      ...\n",
      "Guinea Ecuatorial          3\n",
      "Guyana                     1\n",
      "Haití                      1\n",
      "Honduras                   2\n",
      "Hungría                    5\n",
      "India                      6\n",
      "Indonesia                  3\n",
      "Iraq                       4\n",
      "Irlanda                    4\n",
      "Irán                       4\n",
      "Islandia                   5\n",
      "Islas Marshall             2\n",
      "Islas Salomón              2\n",
      "Israel                     3\n",
      "Italia                     4\n",
      "Jamaica                    8\n",
      "Japón                      5\n",
      "Jordania                   2\n",
      "Kazajstán                  5\n",
      "Kenya                      5\n",
      "Kirguistán                 3\n",
      "Kiribati                   1\n",
      "Kuwait                     5\n",
      "Lesotho                    3\n",
      "Letonia                    1\n",
      "Liberia                    2\n",
      "Libia                      2\n",
      "Liechtenstein              2\n",
      "Lituania                   9\n",
      "Luxemburgo                 6\n",
      "\n",
      "[100 rows x 1 columns]\n"
     ]
    }
   ],
   "source": [
    "print('*** Reporte de cantidad personas por país de residencia ***')\n",
    "df_by_country = my_df.groupby('country',as_index=True).agg({'country': ['count']})\n",
    "print(df_by_country.head(100))\n",
    "df_by_country.to_html('cantidad_personas_por_pais_residencia.html', index=True)"
   ]
  },
  {
   "cell_type": "code",
   "execution_count": 11,
   "metadata": {},
   "outputs": [
    {
     "name": "stdout",
     "output_type": "stream",
     "text": [
      "*** Reporte de cantidad personas por proveedor de email ***\n",
      "            domain\n",
      "             count\n",
      "domain            \n",
      "gmail.com      221\n",
      "hotmail.com    247\n",
      "yahoo.com      249\n"
     ]
    }
   ],
   "source": [
    "print('*** Reporte de cantidad personas por proveedor de email ***')\n",
    "df_by_email_provider = my_df.groupby('domain', as_index=True).agg({'domain': ['count']})\n",
    "print(df_by_email_provider.head(100))\n",
    "df_by_email_provider.to_html('cantidad_personas_por_proveedor_email.html', index=True)"
   ]
  },
  {
   "cell_type": "code",
   "execution_count": 12,
   "metadata": {},
   "outputs": [
    {
     "name": "stdout",
     "output_type": "stream",
     "text": [
      "*** Reporte de cantidad personas por proveedor tipo de sangre ***\n",
      "            blood_group\n",
      "                  count\n",
      "blood_group            \n",
      "A+                   74\n",
      "A-                   98\n",
      "AB+                  84\n",
      "AB-                  93\n",
      "B+                  102\n",
      "B-                   83\n",
      "O+                   83\n",
      "O-                  100\n"
     ]
    }
   ],
   "source": [
    "print('*** Reporte de cantidad personas por proveedor tipo de sangre ***')\n",
    "df_by_blood_group = my_df.groupby('blood_group', as_index=True).agg({'blood_group': ['count']})\n",
    "print(df_by_blood_group.head(100))\n",
    "df_by_blood_group.to_html('cantidad_personas_por_grupo_sanguineo.html', index=True)"
   ]
  },
  {
   "cell_type": "code",
   "execution_count": 13,
   "metadata": {},
   "outputs": [
    {
     "name": "stdout",
     "output_type": "stream",
     "text": [
      "Salario promedio anual : 83275.22 dollars\n",
      "*** Reporte de promedios por pais [edad, peso, salario y talla] ***\n",
      "                                 country    age_avg  height_avg  \\\n",
      "0                             Afganistán  74.500000  161.500000   \n",
      "1                                Albania  43.250000  175.750000   \n",
      "2                               Alemania  47.666667  175.166667   \n",
      "3                                Andorra  63.000000  187.000000   \n",
      "4                                 Angola  59.833333  186.333333   \n",
      "5                      Antigua y Barbuda  48.750000  167.000000   \n",
      "6                         Arabia Saudita  74.000000  189.500000   \n",
      "7                                Argelia  54.000000  188.000000   \n",
      "8                              Argentina  73.500000  171.000000   \n",
      "9                              Australia  54.000000  189.000000   \n",
      "10                               Austria  36.200000  179.000000   \n",
      "11                            Azerbaiyán  50.666667  206.666667   \n",
      "12                               Bahamas  50.400000  182.800000   \n",
      "13                               Bahrein  75.666667  179.333333   \n",
      "14                            Bangladesh  36.333333  178.000000   \n",
      "15                               Belarús  31.000000  202.000000   \n",
      "16                                Belice  47.666667  174.000000   \n",
      "17                                 Benin  68.333333  191.666667   \n",
      "18                                Bhután  50.200000  170.400000   \n",
      "19                               Bolivia  52.500000  174.500000   \n",
      "20                  Bosnia y Herzegovina  42.666667  189.000000   \n",
      "21                              Botswana  50.750000  180.250000   \n",
      "22                                Brasil  52.285714  174.714286   \n",
      "23                     Brunei Darussalam  56.500000  157.500000   \n",
      "24                              Bulgaria  49.750000  180.500000   \n",
      "25                          Burkina Faso  39.428571  180.714286   \n",
      "26                               Burundi  56.000000  182.333333   \n",
      "27                            Cabo Verde  51.111111  176.666667   \n",
      "28                               Camboya  75.000000  174.666667   \n",
      "29                               Camerún  50.000000  160.400000   \n",
      "..                                   ...        ...         ...   \n",
      "157                              Somalia  33.000000  177.500000   \n",
      "158                            Sri Lanka  75.000000  186.000000   \n",
      "159                            Sudáfrica  49.500000  189.250000   \n",
      "160                                Sudán  33.333333  182.000000   \n",
      "161                        Sudán del Sur  45.333333  176.666667   \n",
      "162                               Suecia  80.000000  177.000000   \n",
      "163                                Suiza  56.333333  170.333333   \n",
      "164                             Suriname  59.714286  170.714286   \n",
      "165                          Swazilandia  70.500000  178.500000   \n",
      "166                            Tailandia  61.166667  162.166667   \n",
      "167                           Tayikistán  73.000000  195.500000   \n",
      "168                          Timor-Leste  62.600000  184.800000   \n",
      "169                                 Togo  70.666667  189.000000   \n",
      "170                                Tonga  44.333333  183.333333   \n",
      "171                    Trinidad y Tabago  50.800000  170.400000   \n",
      "172                         Turkmenistán  50.600000  174.200000   \n",
      "173                              Turquía  59.571429  188.428571   \n",
      "174                               Tuvalu  58.666667  180.000000   \n",
      "175                                Túnez  52.200000  194.400000   \n",
      "176                              Ucrania  56.000000  183.333333   \n",
      "177                               Uganda  63.000000  193.000000   \n",
      "178                              Uruguay  54.000000  179.500000   \n",
      "179                           Uzbekistán  48.000000  178.500000   \n",
      "180                              Vanuatu  63.000000  176.333333   \n",
      "181                            Venezuela  33.000000  188.000000   \n",
      "182                              Vietman  43.000000  177.500000   \n",
      "183                                Yemen  56.500000  179.000000   \n",
      "184                               Zambia  33.000000  176.666667   \n",
      "185                             Zimbabwe  43.666667  169.166667   \n",
      "186  ex República Yugoslava de Macedonia  82.250000  191.500000   \n",
      "\n",
      "        salary_avg  weight_avg  \n",
      "0     61880.496456   81.000000  \n",
      "1    117805.593795   71.000000  \n",
      "2     75325.939189   78.166667  \n",
      "3    117686.132803  102.000000  \n",
      "4     65608.174935   87.833333  \n",
      "5     59905.540115   74.000000  \n",
      "6     75331.860112   75.500000  \n",
      "7    136627.160979   89.500000  \n",
      "8     52314.723523   86.000000  \n",
      "9     68909.331202  106.666667  \n",
      "10   107740.305505   80.200000  \n",
      "11    94356.802184   98.333333  \n",
      "12    90384.658262   73.600000  \n",
      "13   107610.855219   79.000000  \n",
      "14    90337.763709   89.333333  \n",
      "15    29303.368755  103.000000  \n",
      "16    81372.624602   78.666667  \n",
      "17    90584.890559   83.666667  \n",
      "18   102131.197228   90.000000  \n",
      "19   128356.543943   87.000000  \n",
      "20    63718.079512   74.666667  \n",
      "21    92603.856527   71.750000  \n",
      "22    85412.822084   80.285714  \n",
      "23    98140.057980   79.500000  \n",
      "24    91660.996315   79.500000  \n",
      "25    76454.148643   72.714286  \n",
      "26    67088.616080   85.666667  \n",
      "27    78695.994971   74.111111  \n",
      "28   102796.470525   94.333333  \n",
      "29    88973.950314   85.200000  \n",
      "..             ...         ...  \n",
      "157   92660.625944   94.000000  \n",
      "158   31979.111279   67.000000  \n",
      "159   79056.422944   83.000000  \n",
      "160   52130.515395   82.333333  \n",
      "161   97120.835029   88.333333  \n",
      "162   57622.189825   94.000000  \n",
      "163   81387.628721   90.000000  \n",
      "164   96744.719268   82.857143  \n",
      "165   60210.536336   76.750000  \n",
      "166   90160.185231   75.000000  \n",
      "167   99792.503383   80.500000  \n",
      "168  100796.707612   71.400000  \n",
      "169   82290.772530   90.000000  \n",
      "170   67646.639145   71.000000  \n",
      "171   75012.667710   91.600000  \n",
      "172  111781.805202   85.600000  \n",
      "173   87783.355888   82.142857  \n",
      "174   81455.346678  103.333333  \n",
      "175   88747.627029   93.600000  \n",
      "176   98107.959303  101.333333  \n",
      "177  146564.219901   81.000000  \n",
      "178   73556.568865   80.500000  \n",
      "179   93113.687260   91.000000  \n",
      "180   79291.260489   63.666667  \n",
      "181   51498.088593  105.000000  \n",
      "182   81645.076644   87.000000  \n",
      "183   81806.103181   72.000000  \n",
      "184   42294.383264   88.333333  \n",
      "185   75995.490206   85.833333  \n",
      "186   68617.656344   69.500000  \n",
      "\n",
      "[187 rows x 5 columns]\n"
     ]
    }
   ],
   "source": [
    "df_by_salary = my_df\n",
    "print('Salario promedio anual : {:8.2f} dollars'.format(df_by_salary['salary'].mean()))\n",
    "\n",
    "print('*** Reporte de promedios por pais [edad, peso, salario y talla] ***')\n",
    "df_by_salary_grouped = df_by_salary.groupby(['country'], as_index=True).mean().add_suffix('_avg').reset_index()\n",
    "df_by_salary_grouped.to_html('promedios_generales_por_pais.html', index=True)\n",
    "print(df_by_salary_grouped)\n",
    "\n",
    "group = df_by_salary.groupby('country')\n",
    "#print(group.mean().head(100))\n",
    "\n",
    "df_by_salary['salary'].hist(figsize=(12, 6), bins=25, grid=True);"
   ]
  }
 ],
 "metadata": {
  "kernelspec": {
   "display_name": "Python 3",
   "language": "python",
   "name": "python3"
  },
  "language_info": {
   "codemirror_mode": {
    "name": "ipython",
    "version": 3
   },
   "file_extension": ".py",
   "mimetype": "text/x-python",
   "name": "python",
   "nbconvert_exporter": "python",
   "pygments_lexer": "ipython3",
   "version": "3.6.5"
  }
 },
 "nbformat": 4,
 "nbformat_minor": 2
}
