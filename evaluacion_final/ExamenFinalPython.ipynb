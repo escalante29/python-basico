{
 "cells": [
  {
   "cell_type": "code",
   "execution_count": 55,
   "metadata": {},
   "outputs": [
    {
     "name": "stdout",
     "output_type": "stream",
     "text": [
      "['a', 'z', 'ef', 'zc', 'def']\n"
     ]
    }
   ],
   "source": [
    "'''\n",
    "Evaluación final\n",
    "\n",
    "1. Metodo que ordene una lista como la siguiente: ['a', 'zc', 'def', 'z', 'ef'] por tamaño de cada elemento\n",
    "\n",
    "'''\n",
    "\n",
    "def ordena_lista_por_tamaño_de_elementos(lista):\n",
    "    ordered_dict = {}\n",
    "    lista_ordenada = []\n",
    "    \n",
    "    for idx, elem in enumerate(lista):\n",
    "        \n",
    "        if not len(elem) in ordered_dict:\n",
    "            ordered_dict[len(elem)] = []    \n",
    "        ordered_dict[len(elem)].append(elem)\n",
    "    \n",
    "    for key in ordered_dict:\n",
    "        lista_ordenada += sorted(ordered_dict[key])\n",
    "    \n",
    "    return lista_ordenada\n",
    "    \n",
    "    \n",
    "lista = ['a', 'zc', 'def', 'z', 'ef']\n",
    "lista_ordenada2 = ordena_lista_por_tamaño_de_elementos(lista)\n",
    "print(lista_ordenada2)"
   ]
  },
  {
   "cell_type": "code",
   "execution_count": 167,
   "metadata": {},
   "outputs": [
    {
     "data": {
      "text/plain": [
       "['brwncfaunv', 'cjpcdvtypi', 'xtkhaxtwbd', 'rjvuwqyrom', 'ivmczvrvyb']"
      ]
     },
     "execution_count": 167,
     "metadata": {},
     "output_type": "execute_result"
    }
   ],
   "source": [
    "'''\n",
    "2. Metodo que genere una lista de palabras aleatorias,\n",
    "    que no se repitan,\n",
    "    entre cada palabra no tenga letras consecutivas,\n",
    "    solo letras de A-Z,   \n",
    "    parametros (n = numero de palabras, m = longitud maxima) \n",
    "'''\n",
    "\n",
    "import random\n",
    "alfabeto = ['a','b','c','d','e','f', 'g', 'h', 'i', 'j', 'k', 'l', 'm', 'n', 'o', 'p', 'q', 'r', 's', 't', 'u', 'v', 'w', 'x', 'y', 'z']\n",
    "\n",
    "def generar_caracter_random():\n",
    "    return alfabeto[int(random.uniform(0, len(alfabeto)))]\n",
    "\n",
    "\n",
    "def generar_palabra(length):\n",
    "    result = []\n",
    "    for i in range(0, length):\n",
    "        result += generar_caracter_random()\n",
    "    \n",
    "    currentLetter = None\n",
    "    for idx, letter in enumerate(result):\n",
    "        if idx == 0:\n",
    "            pass\n",
    "        if letter == result[idx-1]:\n",
    "            result[idx] = generar_caracter_random()\n",
    "    \n",
    "    return ''.join(result)\n",
    "\n",
    "def generador_palabras(cantidad_palabras, longitud_palabra):\n",
    "    resultado = []\n",
    "    \n",
    "    for i in range(0, cantidad_palabras):\n",
    "        palabra_generada = generar_palabra(longitud_palabra)\n",
    "        resultado.append(palabra_generada)\n",
    "            \n",
    "    return resultado\n",
    "\n",
    "#generar_palabra(5)\n",
    "generador_palabras(5, 10)\n"
   ]
  },
  {
   "cell_type": "code",
   "execution_count": null,
   "metadata": {},
   "outputs": [],
   "source": [
    "'''\n",
    "3. \n",
    "'''"
   ]
  }
 ],
 "metadata": {
  "kernelspec": {
   "display_name": "Python 3",
   "language": "python",
   "name": "python3"
  },
  "language_info": {
   "codemirror_mode": {
    "name": "ipython",
    "version": 3
   },
   "file_extension": ".py",
   "mimetype": "text/x-python",
   "name": "python",
   "nbconvert_exporter": "python",
   "pygments_lexer": "ipython3",
   "version": "3.6.5"
  }
 },
 "nbformat": 4,
 "nbformat_minor": 2
}
